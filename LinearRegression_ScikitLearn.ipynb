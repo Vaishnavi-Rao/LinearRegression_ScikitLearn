{
 "cells": [
  {
   "cell_type": "code",
   "execution_count": 5,
   "id": "505f20af",
   "metadata": {},
   "outputs": [
    {
     "name": "stdout",
     "output_type": "stream",
     "text": [
      "(237, 4)\n",
      "72.1206213783709\n",
      "0.639311719957\n"
     ]
    }
   ],
   "source": [
    "import numpy as np #for linear algebra\n",
    "import pandas as pd #for data processing\n",
    "import matplotlib.pyplot as plt #for plotting\n",
    "\n",
    "\n",
    "#Reading data\n",
    "data = pd.read_csv('headbrain.csv')\n",
    "print(data.shape)  #gives number of rows and coloumns\n",
    "data.head()\n",
    "\n",
    "#Collecting X and Y values to plot\n",
    "X = data['Head Size(cm^3)'].values\n",
    "Y = data['Brain Weight(grams)'].values\n",
    "n = len(X)\n",
    "\n",
    "from sklearn.linear_model import LinearRegression\n",
    "from sklearn.metrics import mean_squared_error\n",
    "\n",
    "#Cannot use 1D array hence converting it to 2D\n",
    "X = X.reshape((n,1))\n",
    "#Creating model\n",
    "reg = LinearRegression()\n",
    "#Fitting training data\n",
    "reg = reg.fit(X,Y)\n",
    "#Y prediction\n",
    "Y_pred = reg.predict(X)\n",
    "#Calculating RMSE and R2 score\n",
    "mse = mean_squared_error(Y,Y_pred)\n",
    "rmse = np.sqrt(mse)\n",
    "r2_score = reg.score(X,Y)\n",
    "\n",
    "print(rmse)\n",
    "print(r2_score)"
   ]
  },
  {
   "cell_type": "code",
   "execution_count": null,
   "id": "11ba7bc9",
   "metadata": {},
   "outputs": [],
   "source": []
  }
 ],
 "metadata": {
  "kernelspec": {
   "display_name": "Python 3",
   "language": "python",
   "name": "python3"
  },
  "language_info": {
   "codemirror_mode": {
    "name": "ipython",
    "version": 3
   },
   "file_extension": ".py",
   "mimetype": "text/x-python",
   "name": "python",
   "nbconvert_exporter": "python",
   "pygments_lexer": "ipython3",
   "version": "3.8.8"
  }
 },
 "nbformat": 4,
 "nbformat_minor": 5
}
